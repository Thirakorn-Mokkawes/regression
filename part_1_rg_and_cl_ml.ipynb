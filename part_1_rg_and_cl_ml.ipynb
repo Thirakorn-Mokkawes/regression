{
 "cells": [
  {
   "cell_type": "markdown",
   "metadata": {},
   "source": [
    "# 1. What is regression in machine learning, and how is it different from classification?\n",
    "\n",
    "Regression and classification are both fundamental types of supervised learning in machine learning, but they serve different purposes and are used for different types of tasks. Here's a breakdown of each and their differences:"
   ]
  },
  {
   "cell_type": "markdown",
   "metadata": {},
   "source": [
    "## 1.1. Regression\n",
    "### 1.1.1. Purpose\n",
    "- **Regression** is used to predict continuous numerical values. The goal is to model the relationship between input variables (features) and a continuous output variable (target).\n",
    "\n",
    "### 1.1.2. Examples\n",
    "- Predicting house prices based on features like size, location, and age.\n",
    "- Forecasting sales revenue for a company.\n",
    "- Estimating temperature or other continuous measurements.\n",
    "\n",
    "### 1.1.3. Algorithms\n",
    "- Linear Regression\n",
    "- Polynomial Regression\n",
    "- Support Vector Regression (SVR)\n",
    "- Decision Trees and Random Forests (for regression)\n",
    "- Neural Networks (for regression tasks)\n",
    "\n",
    "### 1.1.4. Output\n",
    "- A continuous value. The model predicts a single value or a range of values."
   ]
  },
  {
   "cell_type": "markdown",
   "metadata": {},
   "source": [
    "## 1.2. Classification\n",
    "### 1.2.1. Purpose\n",
    "- **Classification** is used to predict categorical labels. The goal is to assign input data to one of several predefined classes or categories.\n",
    "### 1.2.2. Examples\n",
    "- Identifying whether an email is spam or not.\n",
    "- Classifying images of animals into categories like dogs, cats, or birds.\n",
    "- Predicting whether a loan application will be approved or rejected.\n",
    "### 1.2.3. Algorithms\n",
    "- Logistic Regression\n",
    "- Support Vector Machines (SVM)\n",
    "- Decision Trees and Random Forests (for classification)\n",
    "- k-Nearest Neighbors (k-NN)\n",
    "- Neural Networks (for classification tasks)\n",
    "### 1.2.4. Output\n",
    "- A discrete label or category. The model outputs the class to which the input data belongs."
   ]
  },
  {
   "cell_type": "markdown",
   "metadata": {},
   "source": [
    "## 1.3. Key Differences\n",
    "- **Output Type**\n",
    "    - **Regression** outputs a continuous value.\n",
    "    - **Classification** outputs a discrete label or category.\n",
    "- **Evaluation Metrics**\n",
    "    - **Regression** uses metrics like Mean Absolute Error (MAE), Mean Squared Error (MSE), and Root Mean Squared Error (RMSE).\n",
    "    - **Classification** uses metrics like accuracy, precision, recall, F1-score, and confusion matrix.\n",
    "- **Goal**\n",
    "    - **Regression** aims to predict quantities.\n",
    "    - **Classification** aims to categorize data.\n",
    "- **Nature of Task**\n",
    "    - **Regression** is typically used when the output variable is a real number.\n",
    "    - **Classification** is used when the output is a class label."
   ]
  }
 ],
 "metadata": {
  "kernelspec": {
   "display_name": "margaret",
   "language": "python",
   "name": "python3"
  },
  "language_info": {
   "codemirror_mode": {
    "name": "ipython",
    "version": 3
   },
   "file_extension": ".py",
   "mimetype": "text/x-python",
   "name": "python",
   "nbconvert_exporter": "python",
   "pygments_lexer": "ipython3",
   "version": "3.12.2"
  }
 },
 "nbformat": 4,
 "nbformat_minor": 2
}
