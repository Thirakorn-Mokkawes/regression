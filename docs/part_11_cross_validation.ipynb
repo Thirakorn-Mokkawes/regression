{
 "cells": [
  {
   "cell_type": "markdown",
   "metadata": {},
   "source": [
    "# 1. Cross-Validation"
   ]
  },
  {
   "cell_type": "markdown",
   "metadata": {},
   "source": [
    "Cross-validation is a powerful technique used in regression (and other machine learning tasks) to assess model performance and ensure its generalizability to unseen data. It helps mitigate the risk of overfitting and provides a more reliable estimate of how well the model will perform on new data."
   ]
  },
  {
   "cell_type": "markdown",
   "metadata": {},
   "source": [
    "Cross-validation involves partitioning the dataset into multiple subsets, or \"folds,\" and then training and evaluating the model multiple times, each time using a different subset of the data for testing and the remaining data for training. The most common form of cross-validation is `k-fold cross-validation`."
   ]
  },
  {
   "cell_type": "markdown",
   "metadata": {},
   "source": [
    "## 1.1. K-Fold Cross-Validation\n",
    "\n",
    "1. **Process**\n",
    "\n",
    "    - The data is divided into $k$ equally sized folds.\n",
    "\n",
    "    - For each fold, the model is trained on $k-1$ folds and tested on the remaining fold.\n",
    "\n",
    "    - This process is repeated $k$ times, with each fold used once as the test set.\n",
    "\n",
    "2. **Evaluation**\n",
    "\n",
    "    - After completing all $k$ iterations, the performance metrics (e.g., MAE, MSE, RMSE, $R^2$) are averaged across the folds to provide a single estimate of model performance.\n",
    "\n",
    "3. **Example of 5-Fold Cross-Validation**\n",
    "\n",
    "    - Divide the data into 5 parts: [Fold 1, Fold 2, Fold 3, Fold 4, Fold 5].\n",
    "    - Train on Folds 2–5 and test on Fold 1.\n",
    "    - Train on Folds 1, 3–5 and test on Fold 2.\n",
    "    - Train on Folds 1, 2, 4, 5 and test on Fold 3.\n",
    "    - Train on Folds 1–3, 5 and test on Fold 4.\n",
    "    - Train on Folds 1–4 and test on Fold 5."
   ]
  },
  {
   "cell_type": "markdown",
   "metadata": {},
   "source": [
    "## 1.2. Why is Cross-Validation Important?\n",
    "\n",
    "1. **Reduces Overfitting**\n",
    "\n",
    "    - Cross-validation helps identify overfitting by evaluating model performance on different subsets of data. If the model performs well across all folds, it is likely to generalize better to new data.\n",
    "\n",
    "2. **Provides a Reliable Estimate of Model Performance**\n",
    "\n",
    "    - By averaging the results across multiple folds, cross-validation provides a more robust estimate of how the model will perform on unseen data, compared to a single train-test split.\n",
    "\n",
    "3. **Utilizes Data Efficiently**\n",
    "\n",
    "    - Cross-validation makes use of the entire dataset for both training and testing, ensuring that every observation is used for validation exactly once.\n",
    "\n",
    "4. **Helps with Model Selection**\n",
    "\n",
    "    - Cross-validation is useful for comparing different models or hyperparameter settings, providing a fair basis for selecting the best-performing model."
   ]
  },
  {
   "cell_type": "markdown",
   "metadata": {},
   "source": [
    "## 1.3. Implementing Cross-Validation in Python\n",
    "\n",
    "Here’s an example using scikit-learn to perform k-fold cross-validation on a regression model:"
   ]
  },
  {
   "cell_type": "code",
   "execution_count": 1,
   "metadata": {},
   "outputs": [
    {
     "name": "stdout",
     "output_type": "stream",
     "text": [
      "Mean MSE: 81.71\n",
      "Standard Deviation of MSE: 18.87\n"
     ]
    }
   ],
   "source": [
    "import numpy as np\n",
    "from sklearn.model_selection import cross_val_score, KFold\n",
    "from sklearn.linear_model import LinearRegression\n",
    "from sklearn.datasets import make_regression\n",
    "\n",
    "# Create a synthetic regression dataset\n",
    "X, y = make_regression(n_samples=100, n_features=1, noise=10, random_state=42)\n",
    "\n",
    "# Define the regression model\n",
    "model = LinearRegression()\n",
    "\n",
    "# Define the k-fold cross-validation configuration\n",
    "kfold = KFold(n_splits=5, shuffle=True, random_state=42)\n",
    "\n",
    "# Evaluate the model using cross-validation\n",
    "mse_scores = cross_val_score(model, X, y, cv=kfold, scoring='neg_mean_squared_error')\n",
    "\n",
    "# Calculate the mean and standard deviation of the MSE scores\n",
    "mean_mse = np.mean(-mse_scores)\n",
    "std_mse = np.std(-mse_scores)\n",
    "\n",
    "print(f\"Mean MSE: {mean_mse:.2f}\")\n",
    "print(f\"Standard Deviation of MSE: {std_mse:.2f}\")\n"
   ]
  },
  {
   "cell_type": "markdown",
   "metadata": {},
   "source": [
    "1. **Interpretation of Results**\n",
    "\n",
    "    - **Mean MSE:** Provides an estimate of the average error the model makes on the test data across all folds.\n",
    "\n",
    "    - **Standard Deviation of MSE:** Indicates the variability of the model’s performance across different folds. Lower variability suggests a more stable model.\n",
    "\n",
    "2. **Variants of Cross-Validation**\n",
    "\n",
    "    - **Stratified K-Fold:**\n",
    "\n",
    "        - Ensures that each fold has approximately the same distribution of target values, useful in classification tasks but not typically used for regression.\n",
    "\n",
    "    - **Leave-One-Out Cross-Validation (LOOCV):**\n",
    "\n",
    "        - A special case where $k$ is equal to the number of samples in the dataset, meaning each sample is used once as a test set.\n",
    "    - **Repeated K-Fold:**\n",
    "    \n",
    "        - Repeats k-fold cross-validation multiple times with different splits, providing a more comprehensive evaluation."
   ]
  }
 ],
 "metadata": {
  "kernelspec": {
   "display_name": "margaret",
   "language": "python",
   "name": "python3"
  },
  "language_info": {
   "codemirror_mode": {
    "name": "ipython",
    "version": 3
   },
   "file_extension": ".py",
   "mimetype": "text/x-python",
   "name": "python",
   "nbconvert_exporter": "python",
   "pygments_lexer": "ipython3",
   "version": "3.12.2"
  }
 },
 "nbformat": 4,
 "nbformat_minor": 2
}
