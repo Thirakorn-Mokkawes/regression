{
 "cells": [
  {
   "cell_type": "markdown",
   "metadata": {},
   "source": [
    "# 1. How to handle categorical variables in regression models"
   ]
  },
  {
   "cell_type": "markdown",
   "metadata": {},
   "source": [
    "Handling categorical variables in regression models is an important aspect of feature engineering, especially when dealing with datasets that include non-numeric data. Categorical variables must be converted into a numerical format for most regression algorithms to process them. Here are some common techniques for encoding categorical variables and their pros and cons, particularly when there are a large number of categories:"
   ]
  },
  {
   "cell_type": "markdown",
   "metadata": {},
   "source": [
    "## 1.1. One-Hot Encoding\n",
    "\n",
    "- **Description:** Converts each category into a binary vector where one element is \"hot\" (1) and the others are \"cold\" (0). For a categorical variable with $n$ categories, one-hot encoding produces $n$ binary features.\n",
    "\n",
    "- **Pros:**\n",
    "\n",
    "    - Preserves information without imposing an ordinal relationship.\n",
    "    - Useful for small to moderate numbers of categories.\n",
    "- **Cons:**\n",
    "\n",
    "    - Can lead to a significant increase in dimensionality when the number of categories is large, potentially leading to sparse matrices and increased computational cost.\n",
    "    \n",
    "- **Implementation:**"
   ]
  },
  {
   "cell_type": "code",
   "execution_count": 2,
   "metadata": {},
   "outputs": [
    {
     "name": "stdout",
     "output_type": "stream",
     "text": [
      "   color_blue  color_green  color_red\n",
      "0         0.0          0.0        1.0\n",
      "1         0.0          1.0        0.0\n",
      "2         1.0          0.0        0.0\n",
      "3         0.0          1.0        0.0\n",
      "4         0.0          0.0        1.0\n"
     ]
    }
   ],
   "source": [
    "import pandas as pd\n",
    "from sklearn.preprocessing import OneHotEncoder\n",
    "\n",
    "# Sample data\n",
    "df = pd.DataFrame({'color': ['red', 'green', 'blue', 'green', 'red']})\n",
    "\n",
    "# One-hot encode\n",
    "encoder = OneHotEncoder(sparse_output=False)  # Use sparse_output instead of sparse\n",
    "one_hot_encoded = encoder.fit_transform(df[['color']])\n",
    "df_one_hot = pd.DataFrame(one_hot_encoded, columns=encoder.get_feature_names_out(['color']))\n",
    "print(df_one_hot)\n"
   ]
  },
  {
   "cell_type": "markdown",
   "metadata": {},
   "source": [
    "## 1.2. Ordinal Encoding\n",
    "\n",
    "- **Description:** Assigns an integer value to each category, treating them as ordered. This approach is suitable when categories have a natural order.\n",
    "\n",
    "- **Pros:**\n",
    "\n",
    "    - Simple and efficient, especially when categories are naturally ordered.\n",
    "    - Does not increase dimensionality.\n",
    "\n",
    "- **Cons:**\n",
    "\n",
    "    - Imposes an ordinal relationship even if it doesn’t exist, which can mislead the model if the categories are nominal.\n",
    "\n",
    "- **Implementation:**"
   ]
  },
  {
   "cell_type": "code",
   "execution_count": 3,
   "metadata": {},
   "outputs": [
    {
     "name": "stdout",
     "output_type": "stream",
     "text": [
      "     size  size_encoded\n",
      "0   small           0.0\n",
      "1  medium           1.0\n",
      "2   large           2.0\n",
      "3  medium           1.0\n",
      "4   small           0.0\n"
     ]
    }
   ],
   "source": [
    "from sklearn.preprocessing import OrdinalEncoder\n",
    "\n",
    "# Sample data\n",
    "df = pd.DataFrame({'size': ['small', 'medium', 'large', 'medium', 'small']})\n",
    "\n",
    "# Ordinal encode\n",
    "ordinal_encoder = OrdinalEncoder(categories=[['small', 'medium', 'large']])\n",
    "df['size_encoded'] = ordinal_encoder.fit_transform(df[['size']])\n",
    "print(df)\n"
   ]
  },
  {
   "cell_type": "markdown",
   "metadata": {},
   "source": [
    "## 1.3. Target Encoding (Mean Encoding)\n",
    "\n",
    "- **Description:** Replaces each category with the mean of the target variable for that category. This technique captures the relationship between the category and the target variable.\n",
    "\n",
    "- **Pros:**\n",
    "\n",
    "    - Reduces dimensionality by encoding the information efficiently.\n",
    "    - Useful when there are many categories.\n",
    "\n",
    "- **Cons:**\n",
    "\n",
    "    - Risk of overfitting, especially if there are few observations per category.\n",
    "    - Requires careful handling to prevent data leakage (e.g., using cross-validation to compute means).\n",
    "\n",
    "- **Implementation:**"
   ]
  },
  {
   "cell_type": "code",
   "execution_count": 4,
   "metadata": {},
   "outputs": [
    {
     "name": "stdout",
     "output_type": "stream",
     "text": [
      "  category  target  category_encoded\n",
      "0        A       1               1.0\n",
      "1        B       2               2.0\n",
      "2        A       1               1.0\n",
      "3        C       3               3.0\n",
      "4        B       2               2.0\n",
      "5        A       1               1.0\n"
     ]
    }
   ],
   "source": [
    "import pandas as pd\n",
    "\n",
    "# Sample data\n",
    "df = pd.DataFrame({'category': ['A', 'B', 'A', 'C', 'B', 'A'], 'target': [1, 2, 1, 3, 2, 1]})\n",
    "\n",
    "# Compute target mean encoding\n",
    "target_means = df.groupby('category')['target'].mean()\n",
    "df['category_encoded'] = df['category'].map(target_means)\n",
    "print(df)\n"
   ]
  },
  {
   "cell_type": "markdown",
   "metadata": {},
   "source": [
    "## 1.4. Frequency Encoding\n",
    "\n",
    "- **Description:** Encodes categories based on their frequency in the dataset. Each category is replaced with its frequency or proportion of occurrence.\n",
    "\n",
    "- **Pros:**\n",
    "\n",
    "    - Simple to implement and does not increase dimensionality.\n",
    "    - Captures information about category distribution.\n",
    "\n",
    "- **Cons:**\n",
    "\n",
    "    - Can be less informative than target encoding as it does not directly consider the target variable.\n",
    "\n",
    "- **Implementation:**"
   ]
  },
  {
   "cell_type": "code",
   "execution_count": 5,
   "metadata": {},
   "outputs": [
    {
     "name": "stdout",
     "output_type": "stream",
     "text": [
      "  category  category_encoded\n",
      "0        A          0.500000\n",
      "1        B          0.333333\n",
      "2        A          0.500000\n",
      "3        C          0.166667\n",
      "4        B          0.333333\n",
      "5        A          0.500000\n"
     ]
    }
   ],
   "source": [
    "import pandas as pd\n",
    "\n",
    "# Sample data\n",
    "df = pd.DataFrame({'category': ['A', 'B', 'A', 'C', 'B', 'A']})\n",
    "\n",
    "# Frequency encode\n",
    "frequency = df['category'].value_counts(normalize=True)\n",
    "df['category_encoded'] = df['category'].map(frequency)\n",
    "print(df)\n"
   ]
  },
  {
   "cell_type": "markdown",
   "metadata": {},
   "source": [
    "# 2. Handling Large Numbers of Categories"
   ]
  },
  {
   "cell_type": "markdown",
   "metadata": {},
   "source": [
    "1. **Combining Rare Categories**\n",
    "\n",
    "    - For categories with very few observations, consider combining them into a single \"Other\" category to reduce dimensionality and noise.\n",
    "\n",
    "2. **Using Dimensionality Reduction**\n",
    "\n",
    "    - Techniques like PCA can be applied to the one-hot encoded matrix to reduce dimensionality while retaining important information.\n",
    "\n",
    "3. **Regularization**\n",
    "\n",
    "    -When using techniques like target encoding, apply regularization to mitigate overfitting, such as using smoothing methods to adjust the encoding based on the category size.\n",
    "\n",
    "4. **Embedding Techniques**\n",
    "\n",
    "    - In deep learning models, categorical variables can be converted into embeddings, which are dense vector representations that capture semantic similarity between categories."
   ]
  }
 ],
 "metadata": {
  "kernelspec": {
   "display_name": "margaret",
   "language": "python",
   "name": "python3"
  },
  "language_info": {
   "codemirror_mode": {
    "name": "ipython",
    "version": 3
   },
   "file_extension": ".py",
   "mimetype": "text/x-python",
   "name": "python",
   "nbconvert_exporter": "python",
   "pygments_lexer": "ipython3",
   "version": "3.12.2"
  }
 },
 "nbformat": 4,
 "nbformat_minor": 2
}
